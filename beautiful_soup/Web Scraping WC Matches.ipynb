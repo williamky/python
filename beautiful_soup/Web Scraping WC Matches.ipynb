{
 "cells": [
  {
   "cell_type": "code",
   "execution_count": 4,
   "id": "2fdec5f9",
   "metadata": {},
   "outputs": [],
   "source": [
    "#import core libraries\n",
    "import pandas as pd\n",
    "from bs4 import BeautifulSoup\n",
    "import requests"
   ]
  },
  {
   "cell_type": "code",
   "execution_count": 5,
   "id": "efaf00c8",
   "metadata": {},
   "outputs": [],
   "source": [
    "#create function\n",
    "def get_data(year):\n",
    "    #find data locations within containers on wiki\n",
    "    web = f'https://en.wikipedia.org/wiki/{year}_FIFA_World_Cup'\n",
    "    response = requests.get(web)\n",
    "    content = response.text\n",
    "    soup = BeautifulSoup(content, 'lxml')\n",
    "    matches = soup.find_all('div', class_='footballbox')\n",
    "\n",
    "    #create data variable lists\n",
    "    home = []\n",
    "    score = []\n",
    "    away = []\n",
    "    loc = []\n",
    "    \n",
    "    #loop over matches\n",
    "    for match in matches:\n",
    "        home.append(match.find('th',class_='fhome').get_text())\n",
    "        away.append(match.find('th',class_='faway').get_text())\n",
    "        score.append(match.find('th',class_='fscore').get_text())\n",
    "        loc.append(match.find('div',itemprop='location').get_text())\n",
    "    \n",
    "    dict_football = {'home': home, 'away': away, 'score':score, 'loc':loc}\n",
    "    df_football = pd.DataFrame(dict_football)\n",
    "    df_football['year'] = year\n",
    "    return df_football"
   ]
  },
  {
   "cell_type": "code",
   "execution_count": 7,
   "id": "0f490b54",
   "metadata": {},
   "outputs": [],
   "source": [
    "years = [1930, 1934, 1938, 1950, 1954, 1958, 1962, 1966, 1970, 1974,\n",
    "         1978, 1982, 1986, 1990, 1994, 1998, 2002, 2006, 2010, 2014,\n",
    "         2018]\n",
    "\n",
    "#results\n",
    "fifa = [get_data(year) for year in years]\n",
    "df_fifa = pd.concat(fifa, ignore_index=True)\n",
    "df_fifa.to_csv('fifa_wc_historical.csv', index = False)"
   ]
  },
  {
   "cell_type": "code",
   "execution_count": 8,
   "id": "0a9ef009-62b3-43ce-b463-37888c530132",
   "metadata": {},
   "outputs": [],
   "source": [
    "df_fixtures = get_data(2022)\n",
    "df_fixtures.to_csv('fifa_wc_fixures.csv', index = False)"
   ]
  }
 ],
 "metadata": {
  "kernelspec": {
   "display_name": "Python 3 (ipykernel)",
   "language": "python",
   "name": "python3"
  },
  "language_info": {
   "codemirror_mode": {
    "name": "ipython",
    "version": 3
   },
   "file_extension": ".py",
   "mimetype": "text/x-python",
   "name": "python",
   "nbconvert_exporter": "python",
   "pygments_lexer": "ipython3",
   "version": "3.8.13"
  }
 },
 "nbformat": 4,
 "nbformat_minor": 5
}
